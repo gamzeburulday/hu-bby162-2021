{
  "nbformat": 4,
  "nbformat_minor": 0,
  "metadata": {
    "colab": {
      "name": "adres.ipynb",
      "provenance": [],
      "collapsed_sections": [],
      "mount_file_id": "18M43ju67WQapYM0RDJVFFZrNWrRB8GS1",
      "authorship_tag": "ABX9TyNeQcv5pNG6mfw3OAqN2yks",
      "include_colab_link": true
    },
    "kernelspec": {
      "name": "python3",
      "display_name": "Python 3"
    },
    "language_info": {
      "name": "python"
    }
  },
  "cells": [
    {
      "cell_type": "markdown",
      "metadata": {
        "id": "view-in-github",
        "colab_type": "text"
      },
      "source": [
        "<a href=\"https://colab.research.google.com/github/gamzeburulday/hu-bby162-2021/blob/main/adres.ipynb\" target=\"_parent\"><img src=\"https://colab.research.google.com/assets/colab-badge.svg\" alt=\"Open In Colab\"/></a>"
      ]
    },
    {
      "cell_type": "code",
      "metadata": {
        "colab": {
          "base_uri": "https://localhost:8080/"
        },
        "id": "ukoO7XpilOoQ",
        "outputId": "24bfb7f0-d68f-4e70-9a22-2306388ca031"
      },
      "source": [
        "dosya = \"/content/drive/MyDrive/Colab Notebooks/HU -BBY162 -2021/adres.txt\"\n",
        "\n",
        "f = open(dosya, \"a\")\n",
        "\n",
        "BirinciBilgi = input(\"Ad: \")\n",
        "İkinciBilgi = input(\"Soyadı: \")\n",
        "ÜçüncüBilgi = input(\"e-Posta: \")\n",
        "\n",
        "\n",
        "f.write(BirinciBilgi+ \" \" + İkinciBilgi+ \" \" + ÜçüncüBilgi+ \" \" + \"\\n\")\n",
        "\n",
        "f.close()\n",
        "\n",
        "f = open(dosya, \"r\")\n",
        "for line in f.readlines():\n",
        "    print(line)\n",
        "f.close()"
      ],
      "execution_count": 2,
      "outputs": [
        {
          "output_type": "stream",
          "text": [
            "Ad: Gamze\n",
            "Soyadı: Burulday\n",
            "e-Posta: gamzeburulday99@gmail.com\n",
            " Gamze Burulday gamzeburulday99@gmail.com \n",
            "\n"
          ],
          "name": "stdout"
        }
      ]
    }
  ]
}