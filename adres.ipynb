{
  "nbformat": 4,
  "nbformat_minor": 0,
  "metadata": {
    "colab": {
      "name": "adres.ipynb",
      "provenance": [],
      "collapsed_sections": [],
      "mount_file_id": "18M43ju67WQapYM0RDJVFFZrNWrRB8GS1",
      "authorship_tag": "ABX9TyNoCdXlYQn/up+LbFEsj4ux",
      "include_colab_link": true
    },
    "kernelspec": {
      "name": "python3",
      "display_name": "Python 3"
    },
    "language_info": {
      "name": "python"
    }
  },
  "cells": [
    {
      "cell_type": "markdown",
      "metadata": {
        "id": "view-in-github",
        "colab_type": "text"
      },
      "source": [
        "<a href=\"https://colab.research.google.com/github/gamzeburulday/hu-bby162-2021/blob/main/adres.ipynb\" target=\"_parent\"><img src=\"https://colab.research.google.com/assets/colab-badge.svg\" alt=\"Open In Colab\"/></a>"
      ]
    },
    {
      "cell_type": "code",
      "metadata": {
        "colab": {
          "base_uri": "https://localhost:8080/"
        },
        "id": "ukoO7XpilOoQ",
        "outputId": "c7605882-57e1-49b4-bb4d-e76d4aac94a1"
      },
      "source": [
        "adres = \"adres.txt\"\n",
        "\n",
        "f = open(adres, \"a\")\n",
        "\n",
        "BirinciBilgi = input(\"Ad: \")\n",
        "İkinciBilgi = input(\"Soyadı: \")\n",
        "ÜçüncüBilgi = input(\"e-Posta: \")\n",
        "\n",
        "\n",
        "f.write(BirinciBilgi+ \" \" + İkinciBilgi+ \" \" + ÜçüncüBilgi+ \" \" + \"\\n\")\n",
        "\n",
        "f.close()\n",
        "\n",
        "f = open(adres, \"r\")\n",
        "for line in f.readlines():\n",
        "    print(line)\n",
        "f.close()"
      ],
      "execution_count": 1,
      "outputs": [
        {
          "output_type": "stream",
          "text": [
            "Ad: Gamze \n",
            "Soyadı: BURULDAY\n",
            "e-Posta: gamzeburulday99@gmail.com\n",
            "Gamze  BURULDAY gamzeburulday99@gmail.com \n",
            "\n"
          ],
          "name": "stdout"
        }
      ]
    }
  ]
}